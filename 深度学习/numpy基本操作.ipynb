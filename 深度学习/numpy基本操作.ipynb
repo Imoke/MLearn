{
 "cells": [
  {
   "cell_type": "code",
   "execution_count": 2,
   "id": "8a82a6eb",
   "metadata": {},
   "outputs": [
    {
     "data": {
      "text/plain": [
       "'1.11.0'"
      ]
     },
     "execution_count": 2,
     "metadata": {},
     "output_type": "execute_result"
    }
   ],
   "source": [
    "import torch\n",
    "torch.__version__"
   ]
  },
  {
   "cell_type": "markdown",
   "id": "9cab65a0",
   "metadata": {},
   "source": [
    "np.array() 属于深拷贝，np.asarray() 则是浅拷贝\n",
    "创建一维和二维数组"
   ]
  },
  {
   "cell_type": "code",
   "execution_count": 4,
   "id": "531bdd14",
   "metadata": {},
   "outputs": [
    {
     "name": "stdout",
     "output_type": "stream",
     "text": [
      "[1]\n",
      "[[1 2]\n",
      " [3 4]]\n"
     ]
    }
   ],
   "source": [
    "import numpy as np\n",
    "arr_1_d = np.asarray([1])\n",
    "print(arr_1_d)\n",
    "arr_2_d = np.asarray([[1, 2], [3, 4]])\n",
    "print(arr_2_d)"
   ]
  },
  {
   "cell_type": "markdown",
   "id": "be718807",
   "metadata": {},
   "source": [
    "shape 表示数组的维度或形状， 是一个整数的元组，元组的长度等于 ndim"
   ]
  },
  {
   "cell_type": "code",
   "execution_count": 5,
   "id": "a85d001f",
   "metadata": {},
   "outputs": [
    {
     "data": {
      "text/plain": [
       "(2, 2)"
      ]
     },
     "execution_count": 5,
     "metadata": {},
     "output_type": "execute_result"
    }
   ],
   "source": [
    "arr_2_d.shape"
   ]
  },
  {
   "cell_type": "code",
   "execution_count": 6,
   "id": "490740ca",
   "metadata": {},
   "outputs": [
    {
     "data": {
      "text/plain": [
       "(1,)"
      ]
     },
     "execution_count": 6,
     "metadata": {},
     "output_type": "execute_result"
    }
   ],
   "source": [
    "arr_1_d.shape"
   ]
  },
  {
   "cell_type": "code",
   "execution_count": 8,
   "id": "651f05e0",
   "metadata": {},
   "outputs": [
    {
     "data": {
      "text/plain": [
       "array([[1],\n",
       "       [2],\n",
       "       [3],\n",
       "       [4]])"
      ]
     },
     "execution_count": 8,
     "metadata": {},
     "output_type": "execute_result"
    }
   ],
   "source": [
    "#将arr_2_d reshape为(4，1)的数组\n",
    "arr_2_d.reshape((4,1))"
   ]
  },
  {
   "cell_type": "code",
   "execution_count": 9,
   "id": "a9a5971d",
   "metadata": {},
   "outputs": [
    {
     "data": {
      "text/plain": [
       "array([[1, 1, 1],\n",
       "       [1, 1, 1]], dtype=int32)"
      ]
     },
     "execution_count": 9,
     "metadata": {},
     "output_type": "execute_result"
    }
   ],
   "source": [
    "np.ones(shape=(2,3), dtype='int32')"
   ]
  },
  {
   "cell_type": "code",
   "execution_count": 10,
   "id": "298f7e02",
   "metadata": {},
   "outputs": [
    {
     "data": {
      "text/plain": [
       "array([[0., 0., 0.],\n",
       "       [0., 0., 0.]])"
      ]
     },
     "execution_count": 10,
     "metadata": {},
     "output_type": "execute_result"
    }
   ],
   "source": [
    "np.zeros(shape=(2,3))"
   ]
  },
  {
   "cell_type": "code",
   "execution_count": 11,
   "id": "3983511f",
   "metadata": {},
   "outputs": [
    {
     "data": {
      "text/plain": [
       "array([2, 5, 8])"
      ]
     },
     "execution_count": 11,
     "metadata": {},
     "output_type": "execute_result"
    }
   ],
   "source": [
    "np.arange(2, 9, 3)"
   ]
  },
  {
   "cell_type": "code",
   "execution_count": 12,
   "id": "09dd6786",
   "metadata": {},
   "outputs": [
    {
     "data": {
      "text/plain": [
       "array([ 2.,  6., 10.])"
      ]
     },
     "execution_count": 12,
     "metadata": {},
     "output_type": "execute_result"
    }
   ],
   "source": [
    "#可以用 np.linspace（start, stop, num=50, endpoint=True, retstep=False, dtype=None）创建一个数组，\n",
    "# 具体就是创建一个从开始数值到结束数值的等差数列。\n",
    "np.linspace(start=2, stop=10, num=3)"
   ]
  },
  {
   "cell_type": "code",
   "execution_count": 19,
   "id": "cba014b5",
   "metadata": {},
   "outputs": [
    {
     "name": "stderr",
     "output_type": "stream",
     "text": [
      "No artists with labels found to put in legend.  Note that artists whose label start with an underscore are ignored when legend() is called with no argument.\n"
     ]
    },
    {
     "data": {
      "image/png": "[encoded data removed]",
      "text/plain": [
       "<Figure size 432x288 with 1 Axes>"
      ]
     },
     "metadata": {
      "needs_background": "light"
     },
     "output_type": "display_data"
    }
   ],
   "source": [
    "\n",
    "import numpy as np\n",
    "import matplotlib.pyplot as plt\n",
    "\n",
    "X = np.arange(-50, 51, 2)\n",
    "Y = X ** 2\n",
    "\n",
    "plt.plot(X, Y, color='blue')\n",
    "plt.legend()\n",
    "plt.show()"
   ]
  },
  {
   "cell_type": "code",
   "execution_count": 20,
   "id": "9e767590",
   "metadata": {},
   "outputs": [
    {
     "data": {
      "text/plain": [
       "array([[[ 0,  1,  2],\n",
       "        [ 3,  4,  5]],\n",
       "\n",
       "       [[ 6,  7,  8],\n",
       "        [ 9, 10, 11]],\n",
       "\n",
       "       [[12, 13, 14],\n",
       "        [15, 16, 17]]])"
      ]
     },
     "execution_count": 20,
     "metadata": {},
     "output_type": "execute_result"
    }
   ],
   "source": [
    "a = np.arange(18).reshape(3,2,3)\n",
    "a"
   ]
  },
  {
   "cell_type": "code",
   "execution_count": 21,
   "id": "60e19f4f",
   "metadata": {},
   "outputs": [
    {
     "data": {
      "text/plain": [
       "array([[12, 13, 14],\n",
       "       [15, 16, 17]])"
      ]
     },
     "execution_count": 21,
     "metadata": {},
     "output_type": "execute_result"
    }
   ],
   "source": [
    "a.max(axis=0)"
   ]
  },
  {
   "cell_type": "code",
   "execution_count": 22,
   "id": "50043d7d",
   "metadata": {},
   "outputs": [
    {
     "data": {
      "text/plain": [
       "array([[ 3,  4,  5],\n",
       "       [ 9, 10, 11],\n",
       "       [15, 16, 17]])"
      ]
     },
     "execution_count": 22,
     "metadata": {},
     "output_type": "execute_result"
    }
   ],
   "source": [
    "a.max(axis=1)"
   ]
  },
  {
   "cell_type": "code",
   "execution_count": 23,
   "id": "ff554928",
   "metadata": {},
   "outputs": [
    {
     "data": {
      "text/plain": [
       "array([[ 2,  5],\n",
       "       [ 8, 11],\n",
       "       [14, 17]])"
      ]
     },
     "execution_count": 23,
     "metadata": {},
     "output_type": "execute_result"
    }
   ],
   "source": [
    "a.max(axis=2)"
   ]
  },
  {
   "cell_type": "markdown",
   "id": "545418a7",
   "metadata": {},
   "source": [
    "使用 Numpy 进行图片操作"
   ]
  },
  {
   "cell_type": "code",
   "execution_count": 1,
   "id": "a88d702d",
   "metadata": {},
   "outputs": [
    {
     "data": {
      "text/plain": [
       "(318, 116)"
      ]
     },
     "execution_count": 1,
     "metadata": {},
     "output_type": "execute_result"
    }
   ],
   "source": [
    "\n",
    "from PIL import Image\n",
    "im = Image.open('jksj.jpg')\n",
    "im.size"
   ]
  },
  {
   "cell_type": "code",
   "execution_count": 4,
   "id": "417b1fb4",
   "metadata": {},
   "outputs": [
    {
     "data": {
      "text/plain": [
       "(116, 318, 3)"
      ]
     },
     "execution_count": 4,
     "metadata": {},
     "output_type": "execute_result"
    }
   ],
   "source": [
    "import numpy as np\n",
    "im_pillow = np.asarray(im)\n",
    "im_pillow.shape"
   ]
  },
  {
   "cell_type": "code",
   "execution_count": 5,
   "id": "10074226",
   "metadata": {},
   "outputs": [],
   "source": [
    "\n",
    "im_pillow_c1 = im_pillow[:, :, 0]\n",
    "im_pillow_c2 = im_pillow[:, :, 1]\n",
    "im_pillow_c3 = im_pillow[:, :, 2]"
   ]
  },
  {
   "cell_type": "code",
   "execution_count": 6,
   "id": "cf090222",
   "metadata": {},
   "outputs": [
    {
     "data": {
      "text/plain": [
       "(116, 318, 2)"
      ]
     },
     "execution_count": 6,
     "metadata": {},
     "output_type": "execute_result"
    }
   ],
   "source": [
    "\n",
    "zeros = np.zeros((im_pillow.shape[0], im_pillow.shape[1], 2))\n",
    "zeros.shape"
   ]
  },
  {
   "cell_type": "code",
   "execution_count": 10,
   "id": "1803536d",
   "metadata": {},
   "outputs": [
    {
     "data": {
      "text/plain": [
       "(116, 318)"
      ]
     },
     "execution_count": 10,
     "metadata": {},
     "output_type": "execute_result"
    }
   ],
   "source": [
    "im_pillow_c1.shape"
   ]
  },
  {
   "cell_type": "code",
   "execution_count": 11,
   "id": "a74b2657",
   "metadata": {},
   "outputs": [
    {
     "data": {
      "text/plain": [
       "(116, 318, 1)"
      ]
     },
     "execution_count": 11,
     "metadata": {},
     "output_type": "execute_result"
    }
   ],
   "source": [
    "im_pillow_c1 = im_pillow_c1[:, :, np.newaxis]\n",
    "im_pillow_c1.shape"
   ]
  },
  {
   "cell_type": "code",
   "execution_count": 12,
   "id": "08d8aab5",
   "metadata": {},
   "outputs": [
    {
     "data": {
      "text/plain": [
       "(116, 318, 3)"
      ]
     },
     "execution_count": 12,
     "metadata": {},
     "output_type": "execute_result"
    }
   ],
   "source": [
    "im_pillow_c1_3ch = np.concatenate((im_pillow_c1, zeros), axis=2)\n",
    "im_pillow_c1_3ch.shape"
   ]
  },
  {
   "cell_type": "code",
   "execution_count": 14,
   "id": "5bffc37d",
   "metadata": {},
   "outputs": [],
   "source": [
    "\n",
    "im_pillow_c2_3ch = np.zeros(im_pillow.shape)\n",
    "im_pillow_c2_3ch[:,:,1] = im_pillow_c2\n",
    "\n",
    "im_pillow_c3_3ch = np.zeros(im_pillow.shape)\n",
    "im_pillow_c3_3ch[:,:,2] = im_pillow_c3"
   ]
  },
  {
   "cell_type": "code",
   "execution_count": 16,
   "id": "b6cf62fe",
   "metadata": {},
   "outputs": [
    {
     "data": {
      "image/png": "[encoded data removed]",
      "text/plain": [
       "<Figure size 432x288 with 4 Axes>"
      ]
     },
     "metadata": {
      "needs_background": "light"
     },
     "output_type": "display_data"
    }
   ],
   "source": [
    "\n",
    "from matplotlib import pyplot as plt\n",
    "plt.subplot(2, 2, 1)\n",
    "plt.title('Origin Image')\n",
    "plt.imshow(im_pillow)\n",
    "plt.axis('off')\n",
    "plt.subplot(2, 2, 2)\n",
    "plt.title('Red Channel')\n",
    "plt.imshow(im_pillow_c1_3ch.astype(np.uint8))\n",
    "plt.axis('off')\n",
    "plt.subplot(2, 2, 3)\n",
    "plt.title('Green Channel')\n",
    "plt.imshow(im_pillow_c2_3ch.astype(np.uint8))\n",
    "plt.axis('off')\n",
    "plt.subplot(2, 2, 4)\n",
    "plt.title('Blue Channel')\n",
    "plt.imshow(im_pillow_c3_3ch.astype(np.uint8))\n",
    "plt.axis('off')\n",
    "plt.savefig('./rgb_pillow.png', dpi=150)"
   ]
  },
  {
   "cell_type": "code",
   "execution_count": null,
   "id": "d0526d00",
   "metadata": {},
   "outputs": [],
   "source": [
    "\n",
    "im_pillow = np.array(im)\n",
    "im_pillow[:,:,1:]=0"
   ]
  },
  {
   "cell_type": "code",
   "execution_count": 17,
   "id": "eb4ddcc0",
   "metadata": {},
   "outputs": [
    {
     "data": {
      "text/plain": [
       "array([8, 7, 1])"
      ]
     },
     "execution_count": 17,
     "metadata": {},
     "output_type": "execute_result"
    }
   ],
   "source": [
    "#排序\n",
    "probs = np.array([0.075, 0.15, 0.075, 0.15, 0.0, 0.05, 0.05, 0.2, 0.25])\n",
    "\n",
    "probs_idx_sort = np.argsort(-probs)  #注意，加了负号，是按降序排序\n",
    "probs_idx_sort\n",
    "#概率最大的前三个值的坐标\n",
    "probs_idx_sort[:3]"
   ]
  }
 ],
 "metadata": {
  "kernelspec": {
   "display_name": "Python 3 (ipykernel)",
   "language": "python",
   "name": "python3"
  },
  "language_info": {
   "codemirror_mode": {
    "name": "ipython",
    "version": 3
   },
   "file_extension": ".py",
   "mimetype": "text/x-python",
   "name": "python",
   "nbconvert_exporter": "python",
   "pygments_lexer": "ipython3",
   "version": "3.8.5"
  }
 },
 "nbformat": 4,
 "nbformat_minor": 5
}
